{
  "nbformat": 4,
  "nbformat_minor": 0,
  "metadata": {
    "colab": {
      "name": "Untitled12.ipynb",
      "provenance": [],
      "authorship_tag": "ABX9TyM9zEKaDzN9M/XlBu69ak6h",
      "include_colab_link": true
    },
    "kernelspec": {
      "name": "python3",
      "display_name": "Python 3"
    },
    "language_info": {
      "name": "python"
    }
  },
  "cells": [
    {
      "cell_type": "markdown",
      "metadata": {
        "id": "view-in-github",
        "colab_type": "text"
      },
      "source": [
        "<a href=\"https://colab.research.google.com/github/BrezginaVera/Python_libraries/blob/main/Homework_lession1.ipynb\" target=\"_parent\"><img src=\"https://colab.research.google.com/assets/colab-badge.svg\" alt=\"Open In Colab\"/></a>"
      ]
    },
    {
      "cell_type": "code",
      "metadata": {
        "id": "CVT_rkHKOziH"
      },
      "source": [
        "### Работа с Pandas "
      ],
      "execution_count": null,
      "outputs": []
    },
    {
      "cell_type": "code",
      "metadata": {
        "id": "3YvJ63fpO29w"
      },
      "source": [
        "#Задание 1\n",
        "import pandas as pd\n",
        "import numpy as np\n",
        "authors = pd.DataFrame({\n",
        "    'author_id': [1, 2, 3],\n",
        "    'author_name': ['Тургенев', 'Чехов', 'Островский'],\n",
        "})\n",
        "book = pd.DataFrame({\n",
        "    'author_id': [1, 1, 1, 2, 2, 3, 3],\n",
        "    'book_title': ['Отцы и дети', 'Рудин', 'Дворянское гнездо', 'Толстый и тонкий', 'Дама с собачкой', 'Гроза', 'Таланты и поклонники'],\n",
        "    'price': [450, 300, 350, 500, 450, 370, 290],\n",
        "})"
      ],
      "execution_count": 1,
      "outputs": []
    },
    {
      "cell_type": "code",
      "metadata": {
        "id": "FxPr-8XQO88M"
      },
      "source": [
        "#Задание 2\n",
        "authors_price = pd.merge(authors, book, on='author_id',how='inner')"
      ],
      "execution_count": 2,
      "outputs": []
    },
    {
      "cell_type": "code",
      "metadata": {
        "id": "KFMk2KtcO_Y1"
      },
      "source": [
        "#Задание 3\n",
        "top5 = authors_price.nlargest(5, 'price')"
      ],
      "execution_count": 3,
      "outputs": []
    },
    {
      "cell_type": "code",
      "metadata": {
        "id": "l3LgOP4MPDiC"
      },
      "source": [
        "#Задание 4\n",
        "min_price = authors_price.groupby('author_name').agg({'price':'min'}).rename(columns=({'price':'min_price'}))\n",
        "max_price = authors_price.groupby('author_name').agg({'price':'max'}).rename(columns=({'price':'max_price'}))\n",
        "mean_price = authors_price.groupby('author_name').agg({'price':'mean'}).rename(columns=({'price':'mean_price'}))\n",
        "authors_stat = pd.concat([min_price, max_price, mean_price], axis=1)"
      ],
      "execution_count": 4,
      "outputs": []
    },
    {
      "cell_type": "code",
      "metadata": {
        "id": "MHElAMFAPGk5"
      },
      "source": [
        "#Задание 5\n",
        "cover = pd.DataFrame({'cover':['твердая', 'мягкая', 'мягкая', 'твердая', 'твердая', 'мягкая', 'мягкая']})\n",
        "authors_price = pd.concat([authors_price, cover], axis=1)"
      ],
      "execution_count": 5,
      "outputs": []
    },
    {
      "cell_type": "code",
      "metadata": {
        "colab": {
          "base_uri": "https://localhost:8080/",
          "height": 173
        },
        "id": "gpN5W7aZPJUv",
        "outputId": "e358d61d-44e2-4f10-c83f-cb418e616943"
      },
      "source": [
        "book_info = pd.pivot_table(authors_price, values='price', index='author_name', columns='cover', aggfunc=np.sum)\n",
        "book_info['твердая'].fillna(0, inplace=True)\n",
        "book_info['мягкая'].fillna(0, inplace=True)\n",
        "book_info.to_pickle('book_info.pkl')\n",
        "book_info2 = pd.read_pickle('book_info.pkl')\n",
        "book_info2"
      ],
      "execution_count": 6,
      "outputs": [
        {
          "output_type": "execute_result",
          "data": {
            "text/html": [
              "<div>\n",
              "<style scoped>\n",
              "    .dataframe tbody tr th:only-of-type {\n",
              "        vertical-align: middle;\n",
              "    }\n",
              "\n",
              "    .dataframe tbody tr th {\n",
              "        vertical-align: top;\n",
              "    }\n",
              "\n",
              "    .dataframe thead th {\n",
              "        text-align: right;\n",
              "    }\n",
              "</style>\n",
              "<table border=\"1\" class=\"dataframe\">\n",
              "  <thead>\n",
              "    <tr style=\"text-align: right;\">\n",
              "      <th>cover</th>\n",
              "      <th>мягкая</th>\n",
              "      <th>твердая</th>\n",
              "    </tr>\n",
              "    <tr>\n",
              "      <th>author_name</th>\n",
              "      <th></th>\n",
              "      <th></th>\n",
              "    </tr>\n",
              "  </thead>\n",
              "  <tbody>\n",
              "    <tr>\n",
              "      <th>Островский</th>\n",
              "      <td>660.0</td>\n",
              "      <td>0.0</td>\n",
              "    </tr>\n",
              "    <tr>\n",
              "      <th>Тургенев</th>\n",
              "      <td>650.0</td>\n",
              "      <td>450.0</td>\n",
              "    </tr>\n",
              "    <tr>\n",
              "      <th>Чехов</th>\n",
              "      <td>0.0</td>\n",
              "      <td>950.0</td>\n",
              "    </tr>\n",
              "  </tbody>\n",
              "</table>\n",
              "</div>"
            ],
            "text/plain": [
              "cover        мягкая  твердая\n",
              "author_name                 \n",
              "Островский    660.0      0.0\n",
              "Тургенев      650.0    450.0\n",
              "Чехов           0.0    950.0"
            ]
          },
          "metadata": {},
          "execution_count": 6
        }
      ]
    },
    {
      "cell_type": "code",
      "metadata": {
        "id": "gGuH_riQPMkC"
      },
      "source": [
        "### Вычисления с помощью Numpy"
      ],
      "execution_count": null,
      "outputs": []
    },
    {
      "cell_type": "code",
      "metadata": {
        "colab": {
          "base_uri": "https://localhost:8080/"
        },
        "id": "lO9dgtAIPOZn",
        "outputId": "9746e78c-7dc7-4e52-e11c-4ce485f40e3b"
      },
      "source": [
        "#Задание 1\n",
        "import numpy as np\n",
        "a = np.array([[1,6],\n",
        "             [2, 8],\n",
        "             [3, 11],\n",
        "             [3, 10],\n",
        "             [1,7]])\n",
        "a_mean = a.mean(axis=0)\n",
        "print('Среднее значение по каждому признаку: ', a_mean)"
      ],
      "execution_count": 7,
      "outputs": [
        {
          "output_type": "stream",
          "name": "stdout",
          "text": [
            "Среднее значение по каждому признаку:  [2.  8.4]\n"
          ]
        }
      ]
    },
    {
      "cell_type": "code",
      "metadata": {
        "id": "XqJS5JTpPRR3"
      },
      "source": [
        "#Задание 2\n",
        "a_centered = a - a_mean"
      ],
      "execution_count": 8,
      "outputs": []
    },
    {
      "cell_type": "code",
      "metadata": {
        "colab": {
          "base_uri": "https://localhost:8080/"
        },
        "id": "Ifvaawk-PT5O",
        "outputId": "e3388594-3671-4f96-d171-1fc0526305d9"
      },
      "source": [
        "#Задание 3\n",
        "A = np.array([-1, 0, 1, 1, -1])\n",
        "B = np.array([-2.4, -0.4, 2.6, 1.6, -1.4])\n",
        "a_centered_sp = A.dot(B)/4\n",
        "print(a_centered_sp)"
      ],
      "execution_count": 9,
      "outputs": [
        {
          "output_type": "stream",
          "name": "stdout",
          "text": [
            "2.0\n"
          ]
        }
      ]
    },
    {
      "cell_type": "code",
      "metadata": {
        "colab": {
          "base_uri": "https://localhost:8080/"
        },
        "id": "HDRmHVgAPWhE",
        "outputId": "e5cdeafc-d96b-448e-c356-391d64140148"
      },
      "source": [
        "#Задание 4\n",
        "a_T = a.T\n",
        "a_cov = np.cov(a_T)\n",
        "print (a_cov)\n",
        "#Значение ковариации - 2"
      ],
      "execution_count": 10,
      "outputs": [
        {
          "output_type": "stream",
          "name": "stdout",
          "text": [
            "[[1.  2. ]\n",
            " [2.  4.3]]\n"
          ]
        }
      ]
    }
  ]
}